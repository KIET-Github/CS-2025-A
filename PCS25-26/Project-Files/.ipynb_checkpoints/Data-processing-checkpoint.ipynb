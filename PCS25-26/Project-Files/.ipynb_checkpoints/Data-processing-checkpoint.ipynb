{
 "cells": [
  {
   "cell_type": "code",
   "execution_count": null,
   "id": "de06e1ed-411c-4ed8-af86-4ac711295665",
   "metadata": {},
   "outputs": [],
   "source": [
    "import numpy as np\n",
    "import matplotlib.pyplot as plt\n",
    "import pandas as pd\n",
    "dataset = pd.read_csv('landmarks_classifier_asia_V1_label_map.csv')"
   ]
  },
  {
   "cell_type": "code",
   "execution_count": null,
   "id": "f13a1fc8-e235-4461-b5ea-858f8ccce3b8",
   "metadata": {},
   "outputs": [],
   "source": [
    "X = dataset.iloc[:, 3:13].values\n",
    "Y = dataset.iloc[:, 13].values\n",
    "X"
   ]
  },
  {
   "cell_type": "code",
   "execution_count": null,
   "id": "2d876fb8-f920-4d94-8d3d-8fc0c14d185e",
   "metadata": {},
   "outputs": [],
   "source": [
    "from sklearn.preprocessing import LabelEncoder, OneHotEncoder\n",
    "labelencoder_X_1 = LabelEncoder() \n",
    "X[:,1] = labelencoder_X_1.fit_transform(X[:,1]) \n",
    "labelencoder_X_2 = LabelEncoder() \n",
    "X[:, 2] = labelencoder_X_2.fit_transform(X[:, 2])\n",
    "X"
   ]
  },
  {
   "cell_type": "code",
   "execution_count": null,
   "id": "63bf0618-8fcd-41f1-8069-dec5a9954b36",
   "metadata": {},
   "outputs": [],
   "source": [
    "onehotencoder = OneHotEncoder(categorical features = [1])\n",
    "X = onehotencoder.fit_transform(X).toarray()\n",
    "X = X[:, 1:]\n",
    "X"
   ]
  },
  {
   "cell_type": "code",
   "execution_count": null,
   "id": "3e44c320-a657-41df-9854-2d81ed9c9878",
   "metadata": {},
   "outputs": [],
   "source": [
    "#Splitting the dataset into the Training set and the Test Set\n",
    "from sklearn.model_selection import train_test_split\n",
    "X_train, X_test, y_train, y_test = train_test_split(X, y, test_size = 0.2)"
   ]
  },
  {
   "cell_type": "code",
   "execution_count": null,
   "id": "67e62b13-a5de-4d7f-918f-2b69219d4d94",
   "metadata": {},
   "outputs": [],
   "source": [
    "#Feature Scaling#"
   ]
  },
  {
   "cell_type": "code",
   "execution_count": null,
   "id": "13cac75e-b463-4615-b404-811f425791b6",
   "metadata": {},
   "outputs": [],
   "source": [
    "fromsklearn.preprocessing import StandardScaler \n",
    "sc = StandardScaler() \n",
    "X_train = sc.fit_transform(X_train) \n",
    "X_test = sc.transform(X_test)"
   ]
  },
  {
   "cell_type": "code",
   "execution_count": null,
   "id": "b8bb13f5-ab5c-45fd-af4d-b281a90ee9f8",
   "metadata": {},
   "outputs": [],
   "source": [
    "# Importing the Keras libraries and packages \n",
    "import keras \n",
    "from keras.models import Sequential \n",
    "from keras.layers import Dense"
   ]
  },
  {
   "cell_type": "code",
   "execution_count": null,
   "id": "e46a645f-1c0d-4f96-b089-a6d6b2cfadf3",
   "metadata": {},
   "outputs": [],
   "source": [
    "classifier = Sequential()"
   ]
  },
  {
   "cell_type": "code",
   "execution_count": null,
   "id": "45323adb-f7ba-496e-af99-32b43d4c4efa",
   "metadata": {},
   "outputs": [],
   "source": [
    "# Compiling Neural Network \n",
    "classifier.compile(optimizer = 'adam', loss = 'binary_crossentropy', metrics = ['accuracy'])"
   ]
  },
  {
   "cell_type": "code",
   "execution_count": null,
   "id": "621d9137-a44a-4a17-88d7-928c009950fc",
   "metadata": {},
   "outputs": [],
   "source": [
    "classifier.fit(X_train, y_train, batch_size = 10, epochs = 50)"
   ]
  },
  {
   "cell_type": "code",
   "execution_count": null,
   "id": "3c28c3ce-8ca2-4349-a68c-e314a8c41e5d",
   "metadata": {},
   "outputs": [],
   "source": [
    "# Predicting the Test set results\n",
    "y_pred = classifier.predict(X_test)\n",
    "y_pred = (y_pred > 0.5)"
   ]
  },
  {
   "cell_type": "code",
   "execution_count": null,
   "id": "bc423d67-072b-4cf7-b4d3-fecae0e5cd71",
   "metadata": {},
   "outputs": [],
   "source": [
    "# Predicting a single new observation for heritage identification\n",
    "\"\"\"\n",
    "Our goal is to predict if a given site is a heritage site based on the following data:\n",
    "Country: India\n",
    "Historical Importance Score: 500\n",
    "Site Type: Cultural\n",
    "Age: 400 years\n",
    "Preservation Status: Good\n",
    "Visitor Count Last Year: 50000\n",
    "Number of Recognitions: 2 (e.g., UNESCO World Heritage Site)\n",
    "Has Restoration Funding: Yes\n",
    "Is Actively Maintained: Yes\n",
    "\"\"\""
   ]
  },
  {
   "cell_type": "code",
   "execution_count": null,
   "id": "87d26208-16f6-4382-92f1-517e2bf877d1",
   "metadata": {},
   "outputs": [],
   "source": [
    "# Predicting the Test set results \n",
    "y_pred = classifier.predict(X_test) \n",
    "y_pred = (y_pred > 0.5)"
   ]
  },
  {
   "cell_type": "code",
   "execution_count": null,
   "id": "bab9ae0d-23b7-4927-a51c-06914ea1e4c8",
   "metadata": {},
   "outputs": [],
   "source": [
    "new_prediction = classifier.predict(sc.transform\n",
    "(np.array([[0.0, 0, 500, 1, 40, 3, 50000, 2, 1, 1, 40000]])))\n",
    "new_prediction = (new_prediction > 0.5)"
   ]
  },
  {
   "cell_type": "code",
   "execution_count": null,
   "id": "d3e21324-6992-4580-aec9-b1e2413eea3e",
   "metadata": {},
   "outputs": [],
   "source": [
    "from sklearn.metrics import confusion_matrix\n",
    "cm = confusion_matrix(y_test, y_pred)\n",
    "print (cm)"
   ]
  },
  {
   "cell_type": "code",
   "execution_count": null,
   "id": "a4040b6e-c4f0-4a9b-b8f8-8ac2fd3a0542",
   "metadata": {},
   "outputs": [],
   "source": []
  }
 ],
 "metadata": {
  "kernelspec": {
   "display_name": "Python 3 (ipykernel)",
   "language": "python",
   "name": "python3"
  },
  "language_info": {
   "codemirror_mode": {
    "name": "ipython",
    "version": 3
   },
   "file_extension": ".py",
   "mimetype": "text/x-python",
   "name": "python",
   "nbconvert_exporter": "python",
   "pygments_lexer": "ipython3",
   "version": "3.11.1"
  }
 },
 "nbformat": 4,
 "nbformat_minor": 5
}
